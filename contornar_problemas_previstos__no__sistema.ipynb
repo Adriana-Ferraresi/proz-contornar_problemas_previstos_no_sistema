{
  "nbformat": 4,
  "nbformat_minor": 0,
  "metadata": {
    "colab": {
      "provenance": [],
      "authorship_tag": "ABX9TyMKrarOepDZLhNcYSK+8H2g",
      "include_colab_link": true
    },
    "kernelspec": {
      "name": "python3",
      "display_name": "Python 3"
    },
    "language_info": {
      "name": "python"
    }
  },
  "cells": [
    {
      "cell_type": "markdown",
      "metadata": {
        "id": "view-in-github",
        "colab_type": "text"
      },
      "source": [
        "<a href=\"https://colab.research.google.com/github/Crisfer-code/P/blob/main/contornar_problemas_previstos__no__sistema.ipynb\" target=\"_parent\"><img src=\"https://colab.research.google.com/assets/colab-badge.svg\" alt=\"Open In Colab\"/></a>"
      ]
    },
    {
      "cell_type": "markdown",
      "source": [
        "\n",
        "\n",
        "---\n",
        "\n",
        "\n",
        "# Contornar problemas previstos no sistema\n",
        "\n",
        "---\n",
        "\n",
        "\n",
        "Desenvolva um programa que recebe do usuário nome completo e ano de nascimento que seja entre 1922 e 2021.\n",
        "A partir dessas informações, o sistema mostrará o nome do usuário e a idade que completou, ou completará, no ano atual (2022).\n",
        "\n",
        "Caso o usuário não digite um número ou apareça um inválido no campo do ano, o sistema informará o erro e continuará perguntando até que um valor correto seja preenchido."
      ],
      "metadata": {
        "id": "oyDJ1RzytPA4"
      }
    },
    {
      "cell_type": "code",
      "execution_count": null,
      "metadata": {
        "colab": {
          "base_uri": "https://localhost:8080/"
        },
        "id": "KeJch4glAbYj",
        "outputId": "eb972213-be83-4078-e383-57d9d8e65707"
      },
      "outputs": [
        {
          "output_type": "stream",
          "name": "stdout",
          "text": [
            "Digite seu nome completo: lauane\n",
            "Digite seu ano de nascimento (entre 1922 e 2021): 92\n",
            "Ano inválido. Tente novamente.\n",
            "Digite seu ano de nascimento (entre 1922 e 2021): 2001\n",
            "Olá, lauane. Você completou, ou completará, 21 anos em 2022.\n"
          ]
        }
      ],
      "source": [
        "# Definir uma função para validar o ano de nascimento\n",
        "def validar_ano(ano):\n",
        "  # Verificar se o ano é um número inteiro\n",
        "  try:\n",
        "    ano = int(ano)\n",
        "  except ValueError:\n",
        "    return False\n",
        "  # Verificar se o ano está entre 1922 e 2021\n",
        "  if ano < 1922 or ano > 2021:\n",
        "    return False\n",
        "  # Retornar True se o ano é válido\n",
        "  return True\n",
        "\n",
        "# Pedir o nome completo do usuário\n",
        "nome = input(\"Digite seu nome completo: \")\n",
        "\n",
        "# Pedir o ano de nascimento do usuário e validar\n",
        "while True:\n",
        "  ano = input(\"Digite seu ano de nascimento (entre 1922 e 2021): \")\n",
        "  if validar_ano(ano):\n",
        "    break\n",
        "  else:\n",
        "    print(\"Ano inválido. Tente novamente.\")\n",
        "\n",
        "# Converter o ano para inteiro\n",
        "ano = int(ano)\n",
        "\n",
        "# Calcular a idade do usuário em 2022\n",
        "idade = 2022 - ano\n",
        "\n",
        "# Mostrar o nome e a idade do usuário\n",
        "print(f\"Olá, {nome}. Você completou, ou completará, {idade} anos em 2022.\")\n"
      ]
    }
  ]
}